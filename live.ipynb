{
 "cells": [
  {
   "cell_type": "code",
   "execution_count": 1,
   "id": "de2b3a57",
   "metadata": {},
   "outputs": [],
   "source": [
    "from ultralytics import YOLO\n",
    "model = YOLO(\"liveness_model_yolov8n.pt\")"
   ]
  },
  {
   "cell_type": "code",
   "execution_count": 8,
   "id": "6aa63601",
   "metadata": {},
   "outputs": [
    {
     "name": "stdout",
     "output_type": "stream",
     "text": [
      "\n",
      "image 1/1 C:\\Users\\aaa_f\\Datasets\\device faces\\WIN_20250514_16_42_11_Pro.jpg: 384x640 1 Fake, 212.1ms\n",
      "Speed: 5.4ms preprocess, 212.1ms inference, 2.8ms postprocess per image at shape (1, 3, 384, 640)\n",
      "Detected: Fake, Confidence: 0.91\n"
     ]
    }
   ],
   "source": [
    "\n",
    "result = model.predict(r\"C:\\Users\\aaa_f\\Datasets\\device faces\\WIN_20250514_16_42_11_Pro.jpg\")\n",
    "for box in result[0].boxes:\n",
    "    cls_id = int(box.cls)\n",
    "    confidence = float(box.conf)\n",
    "    label = result[0].names[cls_id]\n",
    "    print(f\"Detected: {label}, Confidence: {confidence:.2f}\")\n"
   ]
  },
  {
   "cell_type": "code",
   "execution_count": 6,
   "id": "fe53ff23",
   "metadata": {},
   "outputs": [
    {
     "data": {
      "text/plain": [
       "[ultralytics.engine.results.Results object with attributes:\n",
       " \n",
       " boxes: ultralytics.engine.results.Boxes object\n",
       " keypoints: None\n",
       " masks: None\n",
       " names: {0: 'Fake', 1: 'Real'}\n",
       " obb: None\n",
       " orig_img: array([[[125,  63,  22],\n",
       "         [125,  63,  22],\n",
       "         [125,  63,  22],\n",
       "         ...,\n",
       "         [181,  88,   1],\n",
       "         [183,  90,   3],\n",
       "         [184,  91,   4]],\n",
       " \n",
       "        [[125,  63,  22],\n",
       "         [125,  63,  22],\n",
       "         [125,  63,  22],\n",
       "         ...,\n",
       "         [181,  88,   1],\n",
       "         [182,  89,   2],\n",
       "         [184,  91,   4]],\n",
       " \n",
       "        [[125,  63,  22],\n",
       "         [125,  63,  22],\n",
       "         [125,  63,  22],\n",
       "         ...,\n",
       "         [183,  88,   1],\n",
       "         [184,  89,   2],\n",
       "         [185,  90,   3]],\n",
       " \n",
       "        ...,\n",
       " \n",
       "        [[  0, 199, 225],\n",
       "         [  0, 197, 223],\n",
       "         [  0, 195, 223],\n",
       "         ...,\n",
       "         [ 10, 220, 236],\n",
       "         [  7, 219, 236],\n",
       "         [  6, 218, 235]],\n",
       " \n",
       "        [[  4, 197, 224],\n",
       "         [  6, 197, 224],\n",
       "         [  9, 197, 225],\n",
       "         ...,\n",
       "         [ 12, 224, 241],\n",
       "         [  8, 222, 239],\n",
       "         [  3, 220, 236]],\n",
       " \n",
       "        [[ 21, 198, 225],\n",
       "         [ 21, 198, 225],\n",
       "         [ 23, 198, 225],\n",
       "         ...,\n",
       "         [  5, 221, 240],\n",
       "         [  5, 222, 241],\n",
       "         [  6, 223, 242]]], dtype=uint8)\n",
       " orig_shape: (353, 358)\n",
       " path: 'C:\\\\Users\\\\aaa_f\\\\Datasets\\\\real faces\\\\aa (274).jpg'\n",
       " probs: None\n",
       " save_dir: 'runs\\\\detect\\\\predict'\n",
       " speed: {'preprocess': 3.6055000000203563, 'inference': 234.16109999999435, 'postprocess': 1.0694000000057713}]"
      ]
     },
     "execution_count": 6,
     "metadata": {},
     "output_type": "execute_result"
    }
   ],
   "source": [
    "result"
   ]
  },
  {
   "cell_type": "code",
   "execution_count": 7,
   "id": "6ca9b52a",
   "metadata": {},
   "outputs": [
    {
     "name": "stdout",
     "output_type": "stream",
     "text": [
      "Detected: Real, Confidence: 0.93\n"
     ]
    }
   ],
   "source": [
    "for box in result[0].boxes:\n",
    "    cls_id = int(box.cls)\n",
    "    confidence = float(box.conf)\n",
    "    label = result[0].names[cls_id]\n",
    "    print(f\"Detected: {label}, Confidence: {confidence:.2f}\")\n"
   ]
  },
  {
   "cell_type": "code",
   "execution_count": null,
   "id": "8732e911",
   "metadata": {},
   "outputs": [],
   "source": [
    "from ultralytics import YOLO\n",
    "import cv2\n",
    "\n",
    "\n",
    "# Step 1: Define image path and load image with OpenCV\n",
    "img_path = r\"C:\\Users\\aaa_f\\Datasets\\device faces\\WIN_20250514_16_42_11_Pro.jpg\"\n",
    "img = cv2.imread(img_path)\n",
    "\n",
    "\n",
    "# Step 3: Run prediction directly on the OpenCV image (BGR format is okay)\n",
    "results = model.predict(source=img, save=True)\n",
    "\n",
    "\n",
    "\n",
    "# Optional: print predictions\n",
    "for box in results[0].boxes:\n",
    "    cls_id = int(box.cls)\n",
    "    confidence = float(box.conf)\n",
    "    label = results[0].names[cls_id]\n",
    "    print(f\"Detected: {label}, Confidence: {confidence:.2f}\")\n"
   ]
  }
 ],
 "metadata": {
  "kernelspec": {
   "display_name": "ocr_env",
   "language": "python",
   "name": "python3"
  },
  "language_info": {
   "codemirror_mode": {
    "name": "ipython",
    "version": 3
   },
   "file_extension": ".py",
   "mimetype": "text/x-python",
   "name": "python",
   "nbconvert_exporter": "python",
   "pygments_lexer": "ipython3",
   "version": "3.9.23"
  }
 },
 "nbformat": 4,
 "nbformat_minor": 5
}
